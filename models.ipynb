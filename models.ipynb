{
  "nbformat": 4,
  "nbformat_minor": 0,
  "metadata": {
    "colab": {
      "name": "models.ipynb",
      "private_outputs": true,
      "provenance": [],
      "collapsed_sections": [],
      "authorship_tag": "ABX9TyOtWhN44rbap2AUhpcB0ZmA",
      "include_colab_link": true
    },
    "kernelspec": {
      "name": "python3",
      "display_name": "Python 3"
    },
    "language_info": {
      "name": "python"
    }
  },
  "cells": [
    {
      "cell_type": "markdown",
      "metadata": {
        "id": "view-in-github",
        "colab_type": "text"
      },
      "source": [
        "<a href=\"https://colab.research.google.com/github/kazu-gor/othello/blob/develop/models.ipynb\" target=\"_parent\"><img src=\"https://colab.research.google.com/assets/colab-badge.svg\" alt=\"Open In Colab\"/></a>"
      ]
    },
    {
      "cell_type": "code",
      "metadata": {
        "id": "AzpgIcJv85bN"
      },
      "source": [
        "import math\n",
        "from abc import ABC, abstractmethod\n",
        "\n",
        "import torch\n",
        "import torch.nn as nn\n",
        "import torch.nn.functional as F"
      ],
      "execution_count": null,
      "outputs": []
    },
    {
      "cell_type": "code",
      "metadata": {
        "id": "QbzY-iNT9E9G"
      },
      "source": [
        "def dict_to_cpu(dictionary):\n",
        "    cpu_dict = {}\n",
        "    for key, value in dictionary.items():\n",
        "        if isinstance(value, torch.Tensor):\n",
        "            cpu_dict[key] = value.cpu()\n",
        "        elif isinstance(value, dict):\n",
        "            cpu_dict[key] = dict_to_cpu(value)\n",
        "        else:\n",
        "            cpu_dict[key] = value\n",
        "    return cpu_dict"
      ],
      "execution_count": null,
      "outputs": []
    },
    {
      "cell_type": "code",
      "metadata": {
        "id": "nodYrVj8AtOy"
      },
      "source": [
        "class AbstractNetwork(ABC, nn.Module):\n",
        "    def __init__(self):\n",
        "        super().__init__()\n",
        "        pass\n",
        "    @abstractmethod\n",
        "    def initial_inference(self, observation):\n",
        "        pass\n",
        "    \n",
        "    @abstractmethod\n",
        "    def recurrent_inference(self, encoded_state, action):\n",
        "        pass\n",
        "    \n",
        "    def get_weights(self):\n",
        "        return dict_to_cpu(self.state_dict())\n",
        "    \n",
        "    def set_weights(self, weights):\n",
        "        self.load_state_dict(weights)"
      ],
      "execution_count": null,
      "outputs": []
    },
    {
      "cell_type": "code",
      "metadata": {
        "id": "NGxl-UoeBfaB"
      },
      "source": [
        "class MuZeroFullyConnectedNetwork(AbstractNetwork):\n",
        "    def __init__(self):\n",
        "        super().__init__()\n",
        "        \n",
        "        self.representaton_network = nn.DataParallel(\n",
        "            \n",
        "        )"
      ],
      "execution_count": null,
      "outputs": []
    },
    {
      "cell_type": "code",
      "metadata": {
        "id": "jEvNhNTREdDO"
      },
      "source": [
        "def conv3x3(in_channels, out_channels, stride=1):\n",
        "    return nn.Conv2d(\n",
        "        in_channels, out_channels, kernel_size=3, stride=stride, padding=1, bias=False)"
      ],
      "execution_count": null,
      "outputs": []
    },
    {
      "cell_type": "code",
      "metadata": {
        "id": "pAEIWWa4ExDA"
      },
      "source": [
        "class ResidualBlock(nn.Module):\n",
        "    def __init__(self, num_channels, stride=1):\n",
        "        super().__init__()\n",
        "        self.conv1 = conv3x3(num_channels, num_channels, stride)\n",
        "        self.bn1 = nn.BatchNorm2d(num_channels)\n",
        "        self.conv2 = conv3x3(num_channels, num_channels)\n",
        "        self.bn2 = nn.BatchNorm2d(num_channels)\n",
        "\n",
        "    def forward(self, x):\n",
        "        out = self.conv1(x)\n",
        "        out = self.bn1(out)\n",
        "        out = F.relu(out)\n",
        "        out = self.conv2(out)\n",
        "        out = self.bn2(out)\n",
        "        out += x\n",
        "        out = F.relu(out)\n",
        "        return out"
      ],
      "execution_count": null,
      "outputs": []
    },
    {
      "cell_type": "code",
      "metadata": {
        "id": "60I1NmJwFkKH"
      },
      "source": [
        "class DownSample(nn.Module):\n",
        "    def __init__(self, in_channels, out_channels):\n",
        "        super().__init__()\n",
        "        self.conv1 = nn.Conv2d(\n",
        "            in_channels,\n",
        "            out_channels // 2,\n",
        "            kernel_size=3,\n",
        "            stride=2,\n",
        "            padding=1, \n",
        "            bias=False,\n",
        "        )\n",
        "        self.resblocks1 = nn.ModuleList(\n",
        "            [ResidualBlock(out_channels // 2) for _ in range(2)]\n",
        "        )\n",
        "        self.conv2 = nn.Conv2d(\n",
        "            out_channels // 2,\n",
        "            out_channels,\n",
        "            kernel_size=3,\n",
        "            stride=2,\n",
        "            padding=1,\n",
        "            bias=False,\n",
        "        )\n",
        "        self.resblocks2 = nn.ModuleList(\n",
        "            [ResidualBlock(out_channels) for _ in range(3)]\n",
        "        )\n",
        "        self.pooling1 = nn.AvgPool2d(kernel_size=3, stride=2, padding=1)\n",
        "        self.resblocks3 = nn.ModuleList(\n",
        "            [ResidualBlock(out_channels) for _ in range(3)]\n",
        "        )\n",
        "        self.pooling2 = nn.AvgPool2d(kernel_size=3, stride=2, padding=1)\n",
        "    \n",
        "    def forward(self, x):\n",
        "        x = self.conv1(x)\n",
        "        for block in self.resblocks1:\n",
        "            x = block(x)\n",
        "        x = self.conv2(x)\n",
        "        for block in self.resblocks2:\n",
        "            x = block(x)\n",
        "        x = self.pooling1(x)\n",
        "        for block in self.resblocks3:\n",
        "            x = block(x)\n",
        "        x = self.pooling2(x)\n",
        "        return x"
      ],
      "execution_count": null,
      "outputs": []
    },
    {
      "cell_type": "code",
      "metadata": {
        "id": "iFInd5ude-Td"
      },
      "source": [
        ""
      ],
      "execution_count": null,
      "outputs": []
    },
    {
      "cell_type": "code",
      "metadata": {
        "id": "qkRBwNn2tJ3y"
      },
      "source": [
        ""
      ],
      "execution_count": null,
      "outputs": []
    }
  ]
}