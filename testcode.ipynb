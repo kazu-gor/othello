{
  "nbformat": 4,
  "nbformat_minor": 0,
  "metadata": {
    "colab": {
      "name": "testcode.ipynb",
      "private_outputs": true,
      "provenance": [],
      "authorship_tag": "ABX9TyN/WVdxN1qYKNm9RzrK4m5h",
      "include_colab_link": true
    },
    "kernelspec": {
      "name": "python3",
      "display_name": "Python 3"
    },
    "language_info": {
      "name": "python"
    }
  },
  "cells": [
    {
      "cell_type": "markdown",
      "metadata": {
        "id": "view-in-github",
        "colab_type": "text"
      },
      "source": [
        "<a href=\"https://colab.research.google.com/github/kazu-gor/othello/blob/develop/testcode.ipynb\" target=\"_parent\"><img src=\"https://colab.research.google.com/assets/colab-badge.svg\" alt=\"Open In Colab\"/></a>"
      ]
    },
    {
      "cell_type": "code",
      "metadata": {
        "id": "SdbviJG46MyN"
      },
      "source": [
        "import numpy as np\n",
        "import torch"
      ],
      "execution_count": null,
      "outputs": []
    },
    {
      "cell_type": "code",
      "metadata": {
        "id": "bUzJlmWn6Sqe"
      },
      "source": [
        "board = np.zeros((8, 8), dtype=\"int32\")\n",
        "board"
      ],
      "execution_count": null,
      "outputs": []
    },
    {
      "cell_type": "code",
      "metadata": {
        "id": "F5qWCju_6ZY-"
      },
      "source": [
        "board[3][3], board[4][4], board[3][4], board[4][3] = 1, 1, -1, -1\n",
        "for i in range(8):\n",
        "    board[i][0] = 1\n",
        "board"
      ],
      "execution_count": null,
      "outputs": []
    },
    {
      "cell_type": "code",
      "metadata": {
        "id": "REKfOzNz6jCm"
      },
      "source": [
        "player1 = 1\n",
        "board_player1 = np.where(board==1, 1.0, 0.0)\n",
        "print(board_player1)\n",
        "print()\n",
        "board_player2 = np.where(board==-1, 1.0, 0.0)\n",
        "print(board_player2)"
      ],
      "execution_count": null,
      "outputs": []
    },
    {
      "cell_type": "code",
      "metadata": {
        "id": "iQ728BTJ6tpp"
      },
      "source": [
        "board_to_play = np.full((8, 8), player1, dtype=\"int32\")\n",
        "board_to_play"
      ],
      "execution_count": null,
      "outputs": []
    },
    {
      "cell_type": "code",
      "metadata": {
        "id": "wJEAYL9W888k"
      },
      "source": [
        "board_marker = [chr(x) for x in range(ord(\"A\"), ord(\"A\") + 8)]\n",
        "marker = \"  \"\n",
        "for i in range(8):\n",
        "    marker = marker + board_marker[i] + \" \"\n",
        "marker"
      ],
      "execution_count": null,
      "outputs": []
    },
    {
      "cell_type": "code",
      "metadata": {
        "id": "H1CnwzFM_hyd"
      },
      "source": [
        "for row in range(8):\n",
        "    print(chr(ord(\"A\") + row), end=\" \")\n",
        "    for col in range(8):\n",
        "        ch = board[row][col]\n",
        "        if ch == 0:\n",
        "            print(\".\", end=\" \")\n",
        "        elif ch == 1:\n",
        "            print(\"X\", end=\" \")\n",
        "        elif ch == -1:\n",
        "            print(\"0\", end=\" \")\n",
        "    print()"
      ],
      "execution_count": null,
      "outputs": []
    },
    {
      "cell_type": "code",
      "metadata": {
        "id": "IPB6g7vaAW8H"
      },
      "source": [
        "human_input = input(\"Enter the position number: \")\n",
        "row, col = human_input.split(\",\")\n",
        "print(f\"row: {row}, col: {col}\")\n",
        "board = [str(x) for x in range(8)]\n",
        "\n",
        "# case 1\n",
        "if len(human_input.split(\",\")) == 2:\n",
        "    row, col = human_input.split(\",\")\n",
        "    if (row in board and col in board):\n",
        "        print(\"OK\")\n",
        "\n",
        "# case 2\n",
        "if (len(human_input.split(\",\")) == 2\n",
        "    and human_input.split(\",\")[0] in board\n",
        "    and human_input.split(\",\")[1] in board):\n",
        "    row, col = human_input.split(\",\")\n",
        "    print(\"OK\")"
      ],
      "execution_count": null,
      "outputs": []
    },
    {
      "cell_type": "code",
      "metadata": {
        "id": "nyxDhQkKGbzl"
      },
      "source": [
        "# case 3 without \",\"\n",
        "human_input = input(\"Enter the position number: \") # ex: \"12\" (row: 1, col: 2)\n",
        "board = [str(x) for x in range(8)]\n",
        "board_size=8\n",
        "if (len(human_input) == 2\n",
        "    and human_input[0] in board\n",
        "    and human_input[1] in board):\n",
        "    row, col = human_input\n",
        "    print(f\"row: {row}, col: {col}\")\n",
        "    action = int(row) * board_size + int(col)\n",
        "    print(f\"action: {action}\")"
      ],
      "execution_count": null,
      "outputs": []
    },
    {
      "cell_type": "code",
      "metadata": {
        "id": "XKjLDtbHTAbi"
      },
      "source": [
        "row = math.floor(action / board_size)\n",
        "print(F\"row: {row}\")\n",
        "col = action % board_size\n",
        "print(f\"col: {col}\")\n"
      ],
      "execution_count": null,
      "outputs": []
    },
    {
      "cell_type": "code",
      "metadata": {
        "id": "98vF0tHwJ0yq"
      },
      "source": [
        "def make_board():\n",
        "    board = np.zeros((8, 8), dtype=\"int32\")\n",
        "    board[3][3], board[4][4], board[3][4], board[4][3] = 1, 1, -1, -1\n",
        "    return board"
      ],
      "execution_count": null,
      "outputs": []
    },
    {
      "cell_type": "code",
      "metadata": {
        "id": "_kJw0ejMaJad"
      },
      "source": [
        "board = make_board()\n",
        "board[3][4], board[4][3] = 1, 1\n",
        "board"
      ],
      "execution_count": null,
      "outputs": []
    },
    {
      "cell_type": "code",
      "metadata": {
        "id": "VXxRzErraMxf"
      },
      "source": [
        "\"\"\"ボード内がどちらかの色一色になった場合\"\"\"\n",
        "if (np.sum(board==1) == 0 or np.sum(board==-1) == 0):\n",
        "    pass\n",
        "    # 終了する"
      ],
      "execution_count": null,
      "outputs": []
    },
    {
      "cell_type": "code",
      "metadata": {
        "id": "FO2jYetTaaL1"
      },
      "source": [
        "def legal_actions():\n",
        "    pass"
      ],
      "execution_count": null,
      "outputs": []
    },
    {
      "cell_type": "code",
      "metadata": {
        "id": "6NLyHp55cvnt"
      },
      "source": [
        "board = make_board()\n",
        "board"
      ],
      "execution_count": null,
      "outputs": []
    },
    {
      "cell_type": "code",
      "metadata": {
        "id": "BCL_P_mmc1He"
      },
      "source": [
        "# 動けるマスを探索する\n",
        "player = 1\n",
        "legal = []\n",
        "direction = ((-1, -1), (-1, 0), (-1, 1), (0, -1), (0, 1), (1, -1), (1, 0), (1, 1))\n",
        "for i in range(board_size):\n",
        "    for j in range(board_size):\n",
        "        if board[i][j] == player:\n",
        "            \"\"\" search algorithm \"\"\"\n",
        "            for d in direction:\n",
        "                row, col = i, j\n",
        "                count = 0\n",
        "                explorer = True\n",
        "                while explorer:\n",
        "                    if (row not in range(board_size) or col not in range(board_size)):\n",
        "                        break\n",
        "                    if (board[row][col] == player and count != 0):\n",
        "                        legal.append(row * board_size + col)\n",
        "                        break\n",
        "                    row += d[0]\n",
        "                    col += d[1]\n",
        "                    count += 1\n",
        "            \"\"\" end search \"\"\""
      ],
      "execution_count": null,
      "outputs": []
    },
    {
      "cell_type": "code",
      "metadata": {
        "id": "Fa02ki3hgePx"
      },
      "source": [
        "print(legal)"
      ],
      "execution_count": null,
      "outputs": []
    },
    {
      "cell_type": "code",
      "metadata": {
        "id": "Y6alcOf1j_6z"
      },
      "source": [
        "row = math.floor(36 / 8)\n",
        "col = 36 % 8\n",
        "board[row][col] = 9\n",
        "row = math.floor(27 / 8)\n",
        "col = 27 % 8\n",
        "board[row][col] = 9\n",
        "board"
      ],
      "execution_count": null,
      "outputs": []
    },
    {
      "cell_type": "code",
      "metadata": {
        "id": "tVRVZJufknQH"
      },
      "source": [
        ""
      ],
      "execution_count": null,
      "outputs": []
    }
  ]
}